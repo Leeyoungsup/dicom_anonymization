{
 "cells": [
  {
   "cell_type": "code",
   "execution_count": 1,
   "metadata": {},
   "outputs": [],
   "source": [
    "import json\n",
    "import os\n",
    "import shutil\n",
    "from glob import glob\n",
    "from tqdm.auto import tqdm\n",
    "import pydicom \n",
    "import matplotlib.pyplot as plt\n",
    "import numpy as np\n",
    "from PIL import Image \n",
    "import random\n",
    "import cv2\n",
    "def createDirectory(directory):\n",
    "    try:\n",
    "        if not os.path.exists(directory):\n",
    "            os.makedirs(directory)\n",
    "    except OSError:\n",
    "        print(\"Error: Failed to create the directory.\")"
   ]
  },
  {
   "cell_type": "code",
   "execution_count": null,
   "metadata": {},
   "outputs": [],
   "source": [
    "folder_list=glob('../../data/dd/ocular_fundus/**/**')\n",
    "png_folder_list=[f.replace('/ocular_fundus','/png') for f in folder_list]\n",
    "json_folder_list=[f.replace('/ocular_fundus','/json') for f in folder_list]\n",
    "\n",
    "for i in range(len(png_folder_list)):\n",
    "    createDirectory(png_folder_list[i])\n",
    "    createDirectory(json_folder_list[i])\n",
    "    \n",
    "    "
   ]
  },
  {
   "cell_type": "code",
   "execution_count": 104,
   "metadata": {},
   "outputs": [
    {
     "data": {
      "application/vnd.jupyter.widget-view+json": {
       "model_id": "99a76a43e9ac4b80941141eeb9a5bc51",
       "version_major": 2,
       "version_minor": 0
      },
      "text/plain": [
       "  0%|          | 0/147 [00:00<?, ?it/s]"
      ]
     },
     "metadata": {},
     "output_type": "display_data"
    }
   ],
   "source": [
    "for i in tqdm(range(453,len(folder_list))):\n",
    "    file_name=os.path.basename(folder_list[i])\n",
    "    # 이미지 파일 저장\n",
    "  \n",
    "    \n",
    "    # json 파일 저장\n",
    "    age=random.randrange(25,69)\n",
    "    sex=random.randrange(0,2)\n",
    "    if sex==0:\n",
    "        sex_str=\"M\"\n",
    "    else:\n",
    "        sex_str=\"F\"\n",
    "    json_object = {\n",
    "        \"patientInfo\": {\n",
    "            \"patientID\": file_name,\n",
    "            \"age\": age,\n",
    "            \"sex\": sex_str,\n",
    "            \"lesion_type\": file_name[:file_name.find('_')]\n",
    "        },\n",
    "        \"lesionAnnnot\": {\n",
    "            \"annotation_type\": \"polygon\",\n",
    "            \"annotaion_loc\": file_name+'.nii'\n",
    "        }\n",
    "    }\n",
    "    with open(json_folder_list[i]+'/'+file_name+'.json', 'w') as f:\n",
    "        json.dump(json_object, f, indent=2)"
   ]
  },
  {
   "cell_type": "code",
   "execution_count": 102,
   "metadata": {},
   "outputs": [
    {
     "data": {
      "text/plain": [
       "'../../data/dd/ocular_fundus/hemorrhage/HEMORRHAGE_0153'"
      ]
     },
     "execution_count": 102,
     "metadata": {},
     "output_type": "execute_result"
    }
   ],
   "source": [
    "folder_list[i]"
   ]
  }
 ],
 "metadata": {
  "kernelspec": {
   "display_name": "LeeYS",
   "language": "python",
   "name": "python3"
  },
  "language_info": {
   "codemirror_mode": {
    "name": "ipython",
    "version": 3
   },
   "file_extension": ".py",
   "mimetype": "text/x-python",
   "name": "python",
   "nbconvert_exporter": "python",
   "pygments_lexer": "ipython3",
   "version": "3.9.0"
  }
 },
 "nbformat": 4,
 "nbformat_minor": 2
}
