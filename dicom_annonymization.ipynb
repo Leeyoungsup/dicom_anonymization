{
 "cells": [
  {
   "cell_type": "code",
   "execution_count": null,
   "metadata": {},
   "outputs": [],
   "source": [
    "import pydicom as dcm\n",
    "import os\n",
    "from glob import glob"
   ]
  },
  {
   "cell_type": "code",
   "execution_count": 30,
   "metadata": {},
   "outputs": [],
   "source": [
    "benign_dicom_list=glob('Z:/1. 연구 프로젝트/1. 인공지능/2020_저선량 고해상도 고속 Multi angle DBT system 개발 (범부처전주기의료기기연구개발사업)_김영재,디알텍/1. 데이터/1. 원본 데이터/Lunit_Dicom/benign/*.dcm')\n",
    "malignant_dicom_list=glob('Z:/1. 연구 프로젝트/1. 인공지능/2020_저선량 고해상도 고속 Multi angle DBT system 개발 (범부처전주기의료기기연구개발사업)_김영재,디알텍/1. 데이터/1. 원본 데이터/Lunit_Dicom/malignant/*.dcm')\n",
    "benign_dst_dicom_list = [f.replace('/2020_저선량 고해상도 고속 Multi angle DBT system 개발 (범부처전주기의료기기연구개발사업)_김영재,디알텍/1. 데이터/1. 원본 데이터/Lunit_Dicom/', '/2020_저선량 고해상도 고속 Multi angle DBT system 개발 (범부처전주기의료기기연구개발사업)_김영재,디알텍/1. 데이터/1. 원본 데이터/유방 닥터앤서 클리닉/중간보고_평가데이터/') for f in benign_dicom_list]\n",
    "malignant_dst_dicom_list = [f.replace('/2020_저선량 고해상도 고속 Multi angle DBT system 개발 (범부처전주기의료기기연구개발사업)_김영재,디알텍/1. 데이터/1. 원본 데이터/Lunit_Dicom/', '/2020_저선량 고해상도 고속 Multi angle DBT system 개발 (범부처전주기의료기기연구개발사업)_김영재,디알텍/1. 데이터/1. 원본 데이터/유방 닥터앤서 클리닉/중간보고_평가데이터/') for f in malignant_dicom_list]"
   ]
  },
  {
   "cell_type": "code",
   "execution_count": 39,
   "metadata": {},
   "outputs": [],
   "source": [
    "\n",
    "for i in range(len(benign_dicom_list)):\n",
    "    dcm_head=dcm.dcmread(benign_dicom_list[i])\n",
    "    file_name=os.path.basename(benign_dicom_list[i])\n",
    "    file_name=os.path.splitext(file_name)[0]\n",
    "    view_position=file_name[file_name.find('_')+1:]\n",
    "    dcm_head.SeriesDescription=view_position\n",
    "    dcm_head.save_as(benign_dst_dicom_list[i])\n",
    "    \n",
    "for i in range(len(malignant_dicom_list)):\n",
    "    dcm_head=dcm.dcmread(malignant_dicom_list[i])\n",
    "    file_name=os.path.basename(malignant_dicom_list[i])\n",
    "    file_name=os.path.splitext(file_name)[0]\n",
    "    view_position=file_name[file_name.find('_')+1:]\n",
    "    dcm_head.SeriesDescription=view_position\n",
    "    dcm_head.save_as(malignant_dst_dicom_list[i])"
   ]
  },
  {
   "cell_type": "code",
   "execution_count": 31,
   "metadata": {},
   "outputs": [],
   "source": [
    "dcm_head.SeriesDescription='aaa'\n"
   ]
  },
  {
   "cell_type": "code",
   "execution_count": 38,
   "metadata": {},
   "outputs": [
    {
     "data": {
      "text/plain": [
       "'LCC'"
      ]
     },
     "execution_count": 38,
     "metadata": {},
     "output_type": "execute_result"
    }
   ],
   "source": [
    "\n",
    "view_position"
   ]
  }
 ],
 "metadata": {
  "kernelspec": {
   "display_name": "LeeYS",
   "language": "python",
   "name": "python3"
  },
  "language_info": {
   "codemirror_mode": {
    "name": "ipython",
    "version": 3
   },
   "file_extension": ".py",
   "mimetype": "text/x-python",
   "name": "python",
   "nbconvert_exporter": "python",
   "pygments_lexer": "ipython3",
   "version": "3.6.12"
  },
  "orig_nbformat": 4
 },
 "nbformat": 4,
 "nbformat_minor": 2
}
