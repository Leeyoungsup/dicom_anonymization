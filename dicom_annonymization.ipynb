{
 "cells": [
  {
   "cell_type": "code",
   "execution_count": 1,
   "metadata": {},
   "outputs": [],
   "source": []
  },
  {
   "cell_type": "code",
   "execution_count": 30,
   "metadata": {},
   "outputs": [],
   "source": [
    "dicom_list=glob('../../data/AN_205.dcm')\n",
    "malignant_dicom_list=glob('Z:/1. 연구 프로젝트/1. 인공지능/2020_저선량 고해상도 고속 Multi angle DBT system 개발 (범부처전주기의료기기연구개발사업)_김영재,디알텍/1. 데이터/1. 원본 데이터/Lunit_Dicom/malignant/*.dcm')\n",
    "benign_dst_dicom_list = [f.replace('/2020_저선량 고해상도 고속 Multi angle DBT system 개발 (범부처전주기의료기기연구개발사업)_김영재,디알텍/1. 데이터/1. 원본 데이터/Lunit_Dicom/', '/2020_저선량 고해상도 고속 Multi angle DBT system 개발 (범부처전주기의료기기연구개발사업)_김영재,디알텍/1. 데이터/1. 원본 데이터/유방 닥터앤서 클리닉/중간보고_평가데이터/') for f in benign_dicom_list]\n",
    "malignant_dst_dicom_list = [f.replace('/2020_저선량 고해상도 고속 Multi angle DBT system 개발 (범부처전주기의료기기연구개발사업)_김영재,디알텍/1. 데이터/1. 원본 데이터/Lunit_Dicom/', '/2020_저선량 고해상도 고속 Multi angle DBT system 개발 (범부처전주기의료기기연구개발사업)_김영재,디알텍/1. 데이터/1. 원본 데이터/유방 닥터앤서 클리닉/중간보고_평가데이터/') for f in malignant_dicom_list]"
   ]
  },
  {
   "cell_type": "code",
   "execution_count": 55,
   "metadata": {},
   "outputs": [
    {
     "name": "stderr",
     "output_type": "stream",
     "text": [
      "/home/gil/anaconda3/envs/LeeYS/lib/python3.9/site-packages/pydicom/valuerep.py:443: UserWarning: Invalid value for VR UI: '1.400.20.81.610.0448897310436221'. Please see <https://dicom.nema.org/medical/dicom/current/output/html/part05.html#table_6.2-1> for allowed values for each VR.\n",
      "  warnings.warn(msg)\n"
     ]
    }
   ],
   "source": [
    "import pydicom as dcm\n",
    "import os\n",
    "from glob import glob\n",
    "ds1 = dcm.dcmread('../../data/AN_205.dcm')\n",
    "anonymization=[(0x0008,0x0020),(0x0008,0x0030),(0x0008,0x0050),(0x0008,0x0090),(0x0010,0x0030),(0x0020,0x0010),(0x0020,0x0011),(0x0020,0x0013)]\n",
    "\n",
    "dst_ds = dcm.dcmread('../../data/AN_207.dcm')\n",
    "\n",
    "duplicate_tags = set(ds1.keys()) & set(dst_ds.keys())\n",
    "for tag in list(dst_ds.keys()):\n",
    "    if tag not in duplicate_tags:\n",
    "        del dst_ds[tag]\n",
    "for tag in anonymization:\n",
    "    dst_ds[tag].value=None\n",
    "dst_ds.save_as('../../data/AN_203.dcm')"
   ]
  },
  {
   "cell_type": "code",
   "execution_count": 54,
   "metadata": {},
   "outputs": [
    {
     "data": {
      "text/plain": [
       "(0008, 0020) Study Date                          DA: '20201203'"
      ]
     },
     "execution_count": 54,
     "metadata": {},
     "output_type": "execute_result"
    }
   ],
   "source": [
    "dst_ds[tag]"
   ]
  }
 ],
 "metadata": {
  "kernelspec": {
   "display_name": "LeeYS",
   "language": "python",
   "name": "python3"
  },
  "language_info": {
   "codemirror_mode": {
    "name": "ipython",
    "version": 3
   },
   "file_extension": ".py",
   "mimetype": "text/x-python",
   "name": "python",
   "nbconvert_exporter": "python",
   "pygments_lexer": "ipython3",
   "version": "3.9.0"
  },
  "orig_nbformat": 4
 },
 "nbformat": 4,
 "nbformat_minor": 2
}
